{
 "cells": [
  {
   "cell_type": "code",
   "execution_count": 37,
   "id": "ed9e741e",
   "metadata": {},
   "outputs": [],
   "source": [
    "#importing all the required libraries\n",
    "import numpy as np\n",
    "import open3d as o3d\n",
    "import matplotlib.pyplot as plt\n",
    "from mpl_toolkits import mplot3d\n",
    "import pandas as pd"
   ]
  },
  {
   "cell_type": "code",
   "execution_count": 38,
   "id": "ce2c2482",
   "metadata": {},
   "outputs": [],
   "source": [
    "# reading the 3D Points Data and storing it in pcd file\n",
    "pcd = o3d.io.read_point_cloud(r\"C:\\Users\\Radhakanta Koner\\Desktop\\set2modelclean.ply\")\n",
    "o3d.visualization.draw_geometries([pcd])"
   ]
  },
  {
   "cell_type": "code",
   "execution_count": 39,
   "id": "dca20b0e",
   "metadata": {},
   "outputs": [],
   "source": [
    "# Removing the plane surface on which rock stays, (ROCKS ARE IN GREY COLOR AND SURFACE IS IN RED COLOR)\n",
    "# We would like to study on 3d rock cloud by removing plane surface\n",
    "plane_model, inliers = pcd.segment_plane(distance_threshold=0.05, ransac_n=3, num_iterations=1000)\n",
    "inlier_cloud = pcd.select_by_index(inliers)\n",
    "rock_cloud = pcd.select_by_index(inliers, invert=True)\n",
    "inlier_cloud.paint_uniform_color([1, 0, 0])\n",
    "rock_cloud.paint_uniform_color([0.6, 0.6, 0.6])\n",
    "pcd.estimate_normals(search_param=o3d.geometry.KDTreeSearchParamHybrid(radius=0.1, max_nn=16), fast_normal_computation=True)\n",
    "o3d.visualization.draw_geometries([inlier_cloud, rock_cloud])\n"
   ]
  },
  {
   "cell_type": "code",
   "execution_count": 40,
   "id": "bf461d15",
   "metadata": {},
   "outputs": [
    {
     "data": {
      "text/plain": [
       "68"
      ]
     },
     "execution_count": 40,
     "metadata": {},
     "output_type": "execute_result"
    }
   ],
   "source": [
    "# Creating Labels for each individual Cluster i.e 0,1,2 for Each rock (i.e total 3 rock clusters)\n",
    "\n",
    "labels = np.array(rock_cloud.cluster_dbscan(eps=0.07, min_points= 50 ))\n",
    "max_label = labels.max()\n",
    "colors = plt.get_cmap(\"tab20\")(labels / (max_label if max_label > 0 else 1))\n",
    "colors[labels < 0] = 0 \n",
    "rock_cloud.colors = o3d.utility.Vector3dVector(colors[:, :3])\n",
    "max_label "
   ]
  },
  {
   "cell_type": "code",
   "execution_count": 41,
   "id": "3be46f5d",
   "metadata": {},
   "outputs": [],
   "source": [
    "o3d.visualization.draw_geometries([rock_cloud])"
   ]
  },
  {
   "cell_type": "code",
   "execution_count": 42,
   "id": "07df42e2",
   "metadata": {},
   "outputs": [
    {
     "data": {
      "text/plain": [
       "PointCloud with 788357 points."
      ]
     },
     "execution_count": 42,
     "metadata": {},
     "output_type": "execute_result"
    }
   ],
   "source": [
    "rock_cloud # no of whole 3d points of rock_cloud"
   ]
  },
  {
   "cell_type": "code",
   "execution_count": 43,
   "id": "a7d56069",
   "metadata": {},
   "outputs": [
    {
     "name": "stdout",
     "output_type": "stream",
     "text": [
      "[Open3D DEBUG] Precompute neighbors.\n",
      "[Open3D DEBUG] Done Precompute neighbors.\n",
      "[Open3D DEBUG] Compute Clusters\n",
      "[Open3D DEBUG] Done Compute Clusters: 69\n"
     ]
    }
   ],
   "source": [
    "with o3d.utility.VerbosityContextManager(\n",
    "o3d.utility.VerbosityLevel.Debug) as cm:\n",
    "    labels = np.array(rock_cloud.cluster_dbscan(eps=0.07, min_points=50, print_progress=True))"
   ]
  },
  {
   "cell_type": "code",
   "execution_count": 44,
   "id": "d60bbc70",
   "metadata": {},
   "outputs": [],
   "source": [
    "if len(labels) != 0:\n",
    "    # Get biggest cluster label\n",
    "    max_label = labels.max() + 1\n"
   ]
  },
  {
   "cell_type": "code",
   "execution_count": 45,
   "id": "1cbf6819",
   "metadata": {},
   "outputs": [],
   "source": [
    "max_label = labels.max() + 1\n",
    "# print(max_label)\n",
    "for i in range(max_label):\n",
    "    id = np.where(labels==i)[0]\n",
    "    pcd_i = rock_cloud.select_by_index(id)\n",
    "    #o3d.visualization.draw_geometries([pcd_i])\n",
    "    x = str(i)\n",
    "    \n",
    "    #saving individual rocks into different ply point cloud files.\n",
    "    #o3d.io.write_point_cloud(r\"C:\\Users\\Radhakanta Koner\\Desktop\\3DFM\" + x + \".ply\", pcd_i)"
   ]
  },
  {
   "cell_type": "code",
   "execution_count": 46,
   "id": "f1e4e9ec",
   "metadata": {},
   "outputs": [],
   "source": [
    "for i in range(max_label):\n",
    "    id = np.where(labels==i)[0]\n",
    "    pcd_i = pcd.select_by_index(id)\n",
    "    hull, _ = pcd_i.compute_convex_hull()\n",
    "    hull_ls = o3d.geometry.LineSet.create_from_triangle_mesh(hull)\n",
    "    hull_ls.paint_uniform_color((1, 0, 0))\n",
    "    o3d.visualization.draw_geometries([pcd_i, hull_ls ])"
   ]
  },
  {
   "cell_type": "code",
   "execution_count": 47,
   "id": "1206410b",
   "metadata": {},
   "outputs": [],
   "source": [
    "from __future__ import division\n",
    "import numpy as np\n",
    "from numpy import *\n",
    "import matplotlib.pyplot as plt\n",
    "import sys\n",
    "from mpl_toolkits.mplot3d import Axes3D\n",
    "from math import *\n",
    "%matplotlib inline\n",
    "import matplotlib as mpl"
   ]
  },
  {
   "cell_type": "code",
   "execution_count": 48,
   "id": "b7978491",
   "metadata": {},
   "outputs": [],
   "source": [
    "def minboundrect(hull_points_3d,Epsilon):\n",
    "    a=[]\n",
    "    boxes=[]\n",
    "    count = 0\n",
    "    min_bbox = (0, 0, sys.maxsize, 0, 0, 0, 0, 0, 0, 0, 0, 0) \n",
    "    angi=np.arange(0.0, 90, Epsilon)\n",
    "\n",
    "    for iDeg in (angi):\n",
    "        boxes.append([])\n",
    "        angj=np.arange(0.0, 180, Epsilon)\n",
    "        for jDeg in (angj):\n",
    "            \n",
    "            i=deg2rad(iDeg)\n",
    "            j=deg2rad(jDeg)\n",
    "            \n",
    "            R = array([ [ math.cos(i),                                       -math.cos(i-(math.pi/2)),              0],\n",
    "                        [ math.cos(j)*math.cos(i-(math.pi/2))  ,             math.cos(j)*math.cos(i), -math.cos(j-(math.pi/2)) ],\n",
    "                        [ math.cos(i-(math.pi/2)) * math.cos(j-(math.pi/2)), math.cos(j-(math.pi/2))*math.cos(i),  math.cos(j) ] ])\n",
    "\n",
    "            rot_points = matmul((hull_points_3d), R )\n",
    "\n",
    "            a.append(rot_points)\n",
    "\n",
    "            min_x = nanmin(rot_points[:,0], axis=0)\n",
    "            max_x = nanmax(rot_points[:,0], axis=0)\n",
    "            min_y = nanmin(rot_points[:,1], axis=0)\n",
    "            max_y = nanmax(rot_points[:,1], axis=0)\n",
    "            min_z = nanmin(rot_points[:,2], axis=0)\n",
    "            max_z = nanmax(rot_points[:,2], axis=0)\n",
    "            width = max_x - min_x\n",
    "            height = max_y - min_y\n",
    "            depth = max_z-min_z\n",
    "            Volume = width * height * depth\n",
    "\n",
    "            boxes[count].append(Volume)\n",
    "\n",
    "            if (Volume < min_bbox[2]):\n",
    "                min_bbox = ( i,j, Volume, width, height, depth, min_x, max_x, min_y, max_y, min_z, max_z )\n",
    "        count=count+1\n",
    "        \n",
    "    i = min_bbox[0]\n",
    "    j = min_bbox[1]\n",
    "    R = array([ [ math.cos(i),                                       -math.cos(i-(math.pi/2)),              0],\n",
    "                [ math.cos(j)*math.cos(i-(math.pi/2))  ,             math.cos(j)*math.cos(i), -math.cos(j-(math.pi/2)) ],\n",
    "                [ math.cos(i-(math.pi/2)) * math.cos(j-(math.pi/2)), math.cos(j-(math.pi/2))*math.cos(i),  math.cos(j)             ] ])\n",
    "\n",
    "    rot_points = matmul((hull_points_3d), R )\n",
    "    \n",
    "\n",
    "    min_x = min_bbox[6]\n",
    "    max_x = min_bbox[7]\n",
    "    min_y = min_bbox[8]\n",
    "    max_y = min_bbox[9]\n",
    "    min_z = min_bbox[10]\n",
    "    max_z = min_bbox[11]\n",
    "\n",
    "    center_x = (min_x + max_x)/2\n",
    "    center_y = (min_y + max_y)/2\n",
    "    center_z = (min_x + max_x)/2\n",
    "    center_point = matmul(linalg.inv(R) , [ center_x, center_y, center_z])\n",
    "\n",
    "    corner_points = zeros( (16,3) ) # empty 2 column array\n",
    "    corner_points[0] = matmul(  (R) ,[ min_x, min_y ,min_z ])\n",
    "    corner_points[1] = matmul(  (R), [ max_x, min_y ,min_z ])\n",
    "    corner_points[2] = matmul(  (R), [ max_x, max_y ,min_z ])\n",
    "    corner_points[3] = matmul(  (R), [ min_x, max_y ,min_z ])\n",
    "    corner_points[4] = matmul(  (R), [ min_x, min_y ,min_z ])\n",
    "    \n",
    "    corner_points[5] = matmul( (R), [ min_x, min_y ,max_z ])\n",
    "    corner_points[6] = matmul( (R), [ max_x, min_y ,max_z ])\n",
    "    corner_points[7] = matmul( (R), [ max_x, max_y ,max_z ])\n",
    "    corner_points[8] = matmul( (R), [ min_x, max_y ,max_z ])\n",
    "    corner_points[9] = matmul( (R), [ min_x, min_y ,max_z ])\n",
    "\n",
    "    corner_points[10] = matmul( (R), [ max_x, min_y ,max_z ])\n",
    "    corner_points[11] = matmul( (R), [ max_x, min_y ,min_z ])\n",
    "    \n",
    "    corner_points[12] = matmul( (R), [ max_x, max_y ,min_z ] )\n",
    "    corner_points[13] = matmul( (R), [ max_x, max_y ,max_z ])\n",
    "\n",
    "    corner_points[14] = matmul( (R), [ min_x, max_y ,max_z ])\n",
    "    corner_points[15] = matmul( (R), [ min_x, max_y ,min_z ])\n",
    "\n",
    "    return ( i, j, min_bbox[2], min_bbox[3], min_bbox[4], min_bbox[5], center_point, corner_points,a,boxes,rot_points)"
   ]
  },
  {
   "cell_type": "code",
   "execution_count": 49,
   "id": "18ce3359",
   "metadata": {},
   "outputs": [],
   "source": [
    "xyz_load = np.asarray(hull_ls.points)"
   ]
  },
  {
   "cell_type": "code",
   "execution_count": 50,
   "id": "1ea5ba00",
   "metadata": {},
   "outputs": [
    {
     "name": "stdout",
     "output_type": "stream",
     "text": [
      "Minimum Volume bounding box:\n",
      "Rotation angles:\n",
      "Along z axes:  1.5446163880149817 rad  ( 88.5 deg )\n",
      "Along x axes:  1.509709802975095 rad  ( 86.5 deg )\n",
      "Width: 0.8190928402656876  Height: 7.311267090838937  Depth: 6.850618037726031   Volume: 41.02565589728805\n",
      "Center point: \n",
      " [ 7.51779261 -7.48223914  6.07329589]\n",
      "Corner points: \n",
      " [[ 9.4578146   0.57579035  6.99965568]\n",
      " [ 9.47925595  0.62577763  7.81694058]\n",
      " [ 2.17049425  0.63746151  8.00797027]\n",
      " [ 2.14905289  0.58747422  7.19068536]\n",
      " [ 9.4578146   0.57579035  6.99965568]\n",
      " [ 9.4578146  -6.26204991  7.4178759 ]\n",
      " [ 9.47925595 -6.21206262  8.23516081]\n",
      " [ 2.17049425 -6.20037874  8.4261905 ]\n",
      " [ 2.14905289 -6.25036603  7.60890559]\n",
      " [ 9.4578146  -6.26204991  7.4178759 ]\n",
      " [ 9.47925595 -6.21206262  8.23516081]\n",
      " [ 9.47925595  0.62577763  7.81694058]\n",
      " [ 2.17049425  0.63746151  8.00797027]\n",
      " [ 2.17049425 -6.20037874  8.4261905 ]\n",
      " [ 2.14905289 -6.25036603  7.60890559]\n",
      " [ 2.14905289  0.58747422  7.19068536]] \n",
      "\n"
     ]
    },
    {
     "data": {
      "text/plain": [
       "Text(0.5, 0.92, 'Minimum Volume Bounding Box')"
      ]
     },
     "execution_count": 50,
     "metadata": {},
     "output_type": "execute_result"
    },
    {
     "data": {
      "image/png": "[encoded data removed]",
      "text/plain": [
       "<Figure size 432x288 with 1 Axes>"
      ]
     },
     "metadata": {
      "needs_background": "light"
     },
     "output_type": "display_data"
    }
   ],
   "source": [
    "Epsilon = 0.5\n",
    "(rot_angle1, rot_angle2, Volume, width, height, depth, center_point, corner_points,a,boxes,\n",
    " rot_points) = minboundrect(xyz_load,Epsilon)\n",
    "\n",
    "print (\"Minimum Volume bounding box:\")\n",
    "print (\"Rotation angles:\")\n",
    "print(\"Along z axes: \", rot_angle1, \"rad  (\", rot_angle1*(180/math.pi), \"deg )\")\n",
    "print(\"Along x axes: \", rot_angle2, \"rad  (\", rot_angle2*(180/math.pi), \"deg )\")\n",
    "print (\"Width:\", width, \" Height:\", height, \" Depth:\", depth, \"  Volume:\", Volume)\n",
    "print (\"Center point: \\n\", center_point)\n",
    "print (\"Corner points: \\n\", corner_points, \"\\n\")\n",
    "\n",
    "fig = plt.figure(4)\n",
    "ax = fig.add_subplot(111, projection='3d')\n",
    "ax.plot3D(corner_points[:, 0], corner_points[:, 1], corner_points[:, 2], 'gray')\n",
    "ax.scatter(xyz_load[:, 0], xyz_load[:, 1], xyz_load[:, 2], s=20, c='b', zorder=10)\n",
    "ax.set_xlabel('X axis')\n",
    "ax.set_ylabel('Y axis')\n",
    "ax.set_zlabel('Z axis')\n",
    "ax.set_title('Minimum Volume Bounding Box')"
   ]
  },
  {
   "cell_type": "code",
   "execution_count": 52,
   "id": "d3b0ceb4",
   "metadata": {},
   "outputs": [
    {
     "name": "stdout",
     "output_type": "stream",
     "text": [
      "Minimum Volume bounding box: 0\n",
      "Rock_No: 0  |Width(cm): 1.87 |Height(cm): 8.68 |Depth(cm): 7.41 |Small Dimension(cm): 1.87 |Volume(cm3): 120.43\n",
      "Minimum Volume bounding box: 1\n",
      "Rock_No: 1  |Width(cm): 1.87 |Height(cm): 8.68 |Depth(cm): 7.41 |Small Dimension(cm): 1.87 |Volume(cm3): 120.09\n",
      "Minimum Volume bounding box: 2\n",
      "Rock_No: 2  |Width(cm): 1.90 |Height(cm): 8.68 |Depth(cm): 7.41 |Small Dimension(cm): 1.90 |Volume(cm3): 121.97\n",
      "Minimum Volume bounding box: 3\n",
      "Rock_No: 3  |Width(cm): 1.86 |Height(cm): 8.67 |Depth(cm): 7.41 |Small Dimension(cm): 1.86 |Volume(cm3): 119.71\n",
      "Minimum Volume bounding box: 4\n",
      "Rock_No: 4  |Width(cm): 1.11 |Height(cm): 8.68 |Depth(cm): 7.40 |Small Dimension(cm): 1.11 |Volume(cm3): 71.09\n",
      "Minimum Volume bounding box: 5\n",
      "Rock_No: 5  |Width(cm): 0.98 |Height(cm): 8.27 |Depth(cm): 7.22 |Small Dimension(cm): 0.98 |Volume(cm3): 58.77\n",
      "Minimum Volume bounding box: 6\n",
      "Rock_No: 6  |Width(cm): 0.91 |Height(cm): 8.53 |Depth(cm): 7.32 |Small Dimension(cm): 0.91 |Volume(cm3): 56.78\n",
      "Minimum Volume bounding box: 7\n",
      "Rock_No: 7  |Width(cm): 1.05 |Height(cm): 8.66 |Depth(cm): 7.39 |Small Dimension(cm): 1.05 |Volume(cm3): 67.00\n",
      "Minimum Volume bounding box: 8\n",
      "Rock_No: 8  |Width(cm): 0.95 |Height(cm): 8.66 |Depth(cm): 7.40 |Small Dimension(cm): 0.95 |Volume(cm3): 60.93\n",
      "Minimum Volume bounding box: 9\n",
      "Rock_No: 9  |Width(cm): 0.95 |Height(cm): 8.67 |Depth(cm): 7.40 |Small Dimension(cm): 0.95 |Volume(cm3): 60.79\n",
      "Minimum Volume bounding box: 10\n",
      "Rock_No: 10  |Width(cm): 0.79 |Height(cm): 7.95 |Depth(cm): 7.20 |Small Dimension(cm): 0.79 |Volume(cm3): 45.27\n",
      "Minimum Volume bounding box: 11\n",
      "Rock_No: 11  |Width(cm): 1.05 |Height(cm): 8.54 |Depth(cm): 7.33 |Small Dimension(cm): 1.05 |Volume(cm3): 65.56\n",
      "Minimum Volume bounding box: 12\n",
      "Rock_No: 12  |Width(cm): 0.89 |Height(cm): 8.53 |Depth(cm): 7.32 |Small Dimension(cm): 0.89 |Volume(cm3): 55.70\n",
      "Minimum Volume bounding box: 13\n",
      "Rock_No: 13  |Width(cm): 1.14 |Height(cm): 8.63 |Depth(cm): 7.39 |Small Dimension(cm): 1.14 |Volume(cm3): 72.92\n",
      "Minimum Volume bounding box: 14\n",
      "Rock_No: 14  |Width(cm): 0.96 |Height(cm): 8.53 |Depth(cm): 7.37 |Small Dimension(cm): 0.96 |Volume(cm3): 60.48\n",
      "Minimum Volume bounding box: 15\n",
      "Rock_No: 15  |Width(cm): 0.92 |Height(cm): 8.06 |Depth(cm): 7.30 |Small Dimension(cm): 0.92 |Volume(cm3): 53.91\n",
      "Minimum Volume bounding box: 16\n",
      "Rock_No: 16  |Width(cm): 0.75 |Height(cm): 8.43 |Depth(cm): 5.43 |Small Dimension(cm): 0.75 |Volume(cm3): 34.30\n",
      "Minimum Volume bounding box: 17\n",
      "Rock_No: 17  |Width(cm): 0.63 |Height(cm): 5.44 |Depth(cm): 4.13 |Small Dimension(cm): 0.63 |Volume(cm3): 14.14\n",
      "Minimum Volume bounding box: 18\n",
      "Rock_No: 18  |Width(cm): 0.81 |Height(cm): 8.06 |Depth(cm): 6.92 |Small Dimension(cm): 0.81 |Volume(cm3): 45.42\n",
      "Minimum Volume bounding box: 19\n",
      "Rock_No: 19  |Width(cm): 0.68 |Height(cm): 8.12 |Depth(cm): 6.70 |Small Dimension(cm): 0.68 |Volume(cm3): 37.14\n",
      "Minimum Volume bounding box: 20\n",
      "Rock_No: 20  |Width(cm): 0.75 |Height(cm): 7.89 |Depth(cm): 5.22 |Small Dimension(cm): 0.75 |Volume(cm3): 30.81\n",
      "Minimum Volume bounding box: 21\n",
      "Rock_No: 21  |Width(cm): 0.92 |Height(cm): 8.42 |Depth(cm): 7.35 |Small Dimension(cm): 0.92 |Volume(cm3): 57.24\n",
      "Minimum Volume bounding box: 22\n",
      "Rock_No: 22  |Width(cm): 0.87 |Height(cm): 8.65 |Depth(cm): 7.36 |Small Dimension(cm): 0.87 |Volume(cm3): 55.46\n",
      "Minimum Volume bounding box: 23\n",
      "Rock_No: 23  |Width(cm): 0.94 |Height(cm): 8.66 |Depth(cm): 7.37 |Small Dimension(cm): 0.94 |Volume(cm3): 60.16\n",
      "Minimum Volume bounding box: 24\n",
      "Rock_No: 24  |Width(cm): 0.94 |Height(cm): 8.68 |Depth(cm): 7.39 |Small Dimension(cm): 0.94 |Volume(cm3): 60.32\n",
      "Minimum Volume bounding box: 25\n",
      "Rock_No: 25  |Width(cm): 0.94 |Height(cm): 8.67 |Depth(cm): 7.40 |Small Dimension(cm): 0.94 |Volume(cm3): 60.45\n",
      "Minimum Volume bounding box: 26\n",
      "Rock_No: 26  |Width(cm): 0.89 |Height(cm): 8.67 |Depth(cm): 7.37 |Small Dimension(cm): 0.89 |Volume(cm3): 56.63\n",
      "Minimum Volume bounding box: 27\n",
      "Rock_No: 27  |Width(cm): 1.10 |Height(cm): 8.68 |Depth(cm): 7.41 |Small Dimension(cm): 1.10 |Volume(cm3): 70.90\n",
      "Minimum Volume bounding box: 28\n",
      "Rock_No: 28  |Width(cm): 0.87 |Height(cm): 8.67 |Depth(cm): 7.37 |Small Dimension(cm): 0.87 |Volume(cm3): 55.93\n",
      "Minimum Volume bounding box: 29\n",
      "Rock_No: 29  |Width(cm): 4.37 |Height(cm): 8.78 |Depth(cm): 0.54 |Small Dimension(cm): 0.54 |Volume(cm3): 20.85\n",
      "Minimum Volume bounding box: 30\n",
      "Rock_No: 30  |Width(cm): 2.53 |Height(cm): 0.02 |Depth(cm): 0.98 |Small Dimension(cm): 0.02 |Volume(cm3): 0.04\n",
      "Minimum Volume bounding box: 31\n",
      "Rock_No: 31  |Width(cm): 1.02 |Height(cm): 2.30 |Depth(cm): 0.48 |Small Dimension(cm): 0.48 |Volume(cm3): 1.13\n",
      "Minimum Volume bounding box: 32\n",
      "Rock_No: 32  |Width(cm): 1.04 |Height(cm): 2.45 |Depth(cm): 0.49 |Small Dimension(cm): 0.49 |Volume(cm3): 1.24\n",
      "Minimum Volume bounding box: 33\n",
      "Rock_No: 33  |Width(cm): 4.28 |Height(cm): 8.86 |Depth(cm): 1.84 |Small Dimension(cm): 1.84 |Volume(cm3): 69.83\n",
      "Minimum Volume bounding box: 34\n",
      "Rock_No: 34  |Width(cm): 1.12 |Height(cm): 8.64 |Depth(cm): 7.36 |Small Dimension(cm): 1.12 |Volume(cm3): 71.00\n",
      "Minimum Volume bounding box: 35\n",
      "Rock_No: 35  |Width(cm): 1.79 |Height(cm): 8.61 |Depth(cm): 7.39 |Small Dimension(cm): 1.79 |Volume(cm3): 114.08\n",
      "Minimum Volume bounding box: 36\n",
      "Rock_No: 36  |Width(cm): 0.97 |Height(cm): 8.48 |Depth(cm): 7.32 |Small Dimension(cm): 0.97 |Volume(cm3): 60.42\n",
      "Minimum Volume bounding box: 37\n",
      "Rock_No: 37  |Width(cm): 1.06 |Height(cm): 8.58 |Depth(cm): 7.37 |Small Dimension(cm): 1.06 |Volume(cm3): 66.84\n",
      "Minimum Volume bounding box: 38\n",
      "Rock_No: 38  |Width(cm): 1.10 |Height(cm): 8.68 |Depth(cm): 7.39 |Small Dimension(cm): 1.10 |Volume(cm3): 70.59\n",
      "Minimum Volume bounding box: 39\n",
      "Rock_No: 39  |Width(cm): 0.57 |Height(cm): 8.19 |Depth(cm): 6.65 |Small Dimension(cm): 0.57 |Volume(cm3): 31.09\n",
      "Minimum Volume bounding box: 40\n",
      "Rock_No: 40  |Width(cm): 1.02 |Height(cm): 8.67 |Depth(cm): 7.37 |Small Dimension(cm): 1.02 |Volume(cm3): 65.28\n",
      "Minimum Volume bounding box: 41\n",
      "Rock_No: 41  |Width(cm): 1.10 |Height(cm): 8.67 |Depth(cm): 7.39 |Small Dimension(cm): 1.10 |Volume(cm3): 70.38\n",
      "Minimum Volume bounding box: 42\n",
      "Rock_No: 42  |Width(cm): 1.84 |Height(cm): 8.68 |Depth(cm): 7.36 |Small Dimension(cm): 1.84 |Volume(cm3): 117.35\n",
      "Minimum Volume bounding box: 43\n",
      "Rock_No: 43  |Width(cm): 1.94 |Height(cm): 8.68 |Depth(cm): 7.41 |Small Dimension(cm): 1.94 |Volume(cm3): 124.56\n",
      "Minimum Volume bounding box: 44\n",
      "Rock_No: 44  |Width(cm): 0.93 |Height(cm): 8.11 |Depth(cm): 7.05 |Small Dimension(cm): 0.93 |Volume(cm3): 53.44\n",
      "Minimum Volume bounding box: 45\n",
      "Rock_No: 45  |Width(cm): 0.98 |Height(cm): 8.40 |Depth(cm): 7.26 |Small Dimension(cm): 0.98 |Volume(cm3): 59.78\n",
      "Minimum Volume bounding box: 46\n",
      "Rock_No: 46  |Width(cm): 1.05 |Height(cm): 8.64 |Depth(cm): 7.39 |Small Dimension(cm): 1.05 |Volume(cm3): 67.28\n",
      "Minimum Volume bounding box: 47\n",
      "Rock_No: 47  |Width(cm): 0.97 |Height(cm): 8.60 |Depth(cm): 7.37 |Small Dimension(cm): 0.97 |Volume(cm3): 61.29\n",
      "Minimum Volume bounding box: 48\n",
      "Rock_No: 48  |Width(cm): 0.99 |Height(cm): 8.67 |Depth(cm): 7.40 |Small Dimension(cm): 0.99 |Volume(cm3): 63.70\n",
      "Minimum Volume bounding box: 49\n",
      "Rock_No: 49  |Width(cm): 0.86 |Height(cm): 8.50 |Depth(cm): 7.37 |Small Dimension(cm): 0.86 |Volume(cm3): 53.63\n",
      "Minimum Volume bounding box: 50\n",
      "Rock_No: 50  |Width(cm): 8.67 |Height(cm): 7.37 |Depth(cm): 1.11 |Small Dimension(cm): 1.11 |Volume(cm3): 70.68\n",
      "Minimum Volume bounding box: 51\n",
      "Rock_No: 51  |Width(cm): 1.14 |Height(cm): 8.67 |Depth(cm): 7.40 |Small Dimension(cm): 1.14 |Volume(cm3): 73.18\n",
      "Minimum Volume bounding box: 52\n",
      "Rock_No: 52  |Width(cm): 1.04 |Height(cm): 8.67 |Depth(cm): 7.40 |Small Dimension(cm): 1.04 |Volume(cm3): 66.65\n",
      "Minimum Volume bounding box: 53\n",
      "Rock_No: 53  |Width(cm): 1.10 |Height(cm): 8.67 |Depth(cm): 7.39 |Small Dimension(cm): 1.10 |Volume(cm3): 70.20\n",
      "Minimum Volume bounding box: 54\n",
      "Rock_No: 54  |Width(cm): 1.13 |Height(cm): 8.63 |Depth(cm): 7.40 |Small Dimension(cm): 1.13 |Volume(cm3): 72.06\n",
      "Minimum Volume bounding box: 55\n",
      "Rock_No: 55  |Width(cm): 0.92 |Height(cm): 8.59 |Depth(cm): 7.36 |Small Dimension(cm): 0.92 |Volume(cm3): 58.23\n",
      "Minimum Volume bounding box: 56\n",
      "Rock_No: 56  |Width(cm): 0.88 |Height(cm): 8.67 |Depth(cm): 7.40 |Small Dimension(cm): 0.88 |Volume(cm3): 56.72\n",
      "Minimum Volume bounding box: 57\n",
      "Rock_No: 57  |Width(cm): 0.95 |Height(cm): 8.67 |Depth(cm): 7.39 |Small Dimension(cm): 0.95 |Volume(cm3): 60.77\n"
     ]
    },
    {
     "name": "stdout",
     "output_type": "stream",
     "text": [
      "Minimum Volume bounding box: 58\n",
      "Rock_No: 58  |Width(cm): 1.04 |Height(cm): 8.49 |Depth(cm): 7.39 |Small Dimension(cm): 1.04 |Volume(cm3): 65.52\n",
      "Minimum Volume bounding box: 59\n",
      "Rock_No: 59  |Width(cm): 1.05 |Height(cm): 8.66 |Depth(cm): 7.39 |Small Dimension(cm): 1.05 |Volume(cm3): 67.34\n",
      "Minimum Volume bounding box: 60\n",
      "Rock_No: 60  |Width(cm): 1.78 |Height(cm): 8.67 |Depth(cm): 7.41 |Small Dimension(cm): 1.78 |Volume(cm3): 114.34\n",
      "Minimum Volume bounding box: 61\n",
      "Rock_No: 61  |Width(cm): 1.90 |Height(cm): 8.68 |Depth(cm): 7.41 |Small Dimension(cm): 1.90 |Volume(cm3): 121.99\n",
      "Minimum Volume bounding box: 62\n",
      "Rock_No: 62  |Width(cm): 0.31 |Height(cm): 7.88 |Depth(cm): 5.34 |Small Dimension(cm): 0.31 |Volume(cm3): 13.01\n",
      "Minimum Volume bounding box: 63\n",
      "Rock_No: 63  |Width(cm): 1.79 |Height(cm): 8.19 |Depth(cm): 7.38 |Small Dimension(cm): 1.79 |Volume(cm3): 108.23\n",
      "Minimum Volume bounding box: 64\n",
      "Rock_No: 64  |Width(cm): 0.33 |Height(cm): 7.25 |Depth(cm): 7.31 |Small Dimension(cm): 0.33 |Volume(cm3): 17.63\n",
      "Minimum Volume bounding box: 65\n",
      "Rock_No: 65  |Width(cm): 5.03 |Height(cm): 7.17 |Depth(cm): 0.95 |Small Dimension(cm): 0.95 |Volume(cm3): 34.05\n",
      "Minimum Volume bounding box: 66\n",
      "Rock_No: 66  |Width(cm): 0.56 |Height(cm): 2.30 |Depth(cm): 6.48 |Small Dimension(cm): 0.56 |Volume(cm3): 8.40\n",
      "Minimum Volume bounding box: 67\n",
      "Rock_No: 67  |Width(cm): 0.86 |Height(cm): 5.23 |Depth(cm): 7.31 |Small Dimension(cm): 0.86 |Volume(cm3): 32.97\n",
      "Minimum Volume bounding box: 68\n",
      "Rock_No: 68  |Width(cm): 0.82 |Height(cm): 7.31 |Depth(cm): 6.85 |Small Dimension(cm): 0.82 |Volume(cm3): 41.03\n"
     ]
    }
   ],
   "source": [
    "Epsilon = 0.5\n",
    "for i in range(max_label):\n",
    "    id = np.where(labels==i)[0]\n",
    "    pcd_i = pcd.select_by_index(id)\n",
    "    hull, _ = pcd_i.compute_convex_hull()\n",
    "    hull_ls = o3d.geometry.LineSet.create_from_triangle_mesh(hull)\n",
    "    hull_ls.paint_uniform_color((1, 0, 0))\n",
    "    xyz_load = np.asarray(hull_ls.points)\n",
    "    (rot_angle1, rot_angle2, Volume, width, height, depth, center_point, corner_points,a,boxes,rot_points) = minboundrect(xyz_load,Epsilon)\n",
    "    Dimension =  min(width,height,depth)\n",
    "    print (\"Minimum Volume bounding box:\", i )\n",
    "    print (\"Rock_No:\", i , \" |Width(cm):\", \"{:.2f}\".format(width), \"|Height(cm):\", \"{:.2f}\".format(height) , \"|Depth(cm):\", \"{:.2f}\".format(depth),\"|Small Dimension(cm):\" ,\"{:.2f}\".format(Dimension), \"|Volume(cm3):\",  \"{:.2f}\".format(Volume))"
   ]
  },
  {
   "cell_type": "code",
   "execution_count": null,
   "id": "167101c1",
   "metadata": {},
   "outputs": [],
   "source": []
  }
 ],
 "metadata": {
  "kernelspec": {
   "display_name": "Python 3 (ipykernel)",
   "language": "python",
   "name": "python3"
  },
  "language_info": {
   "codemirror_mode": {
    "name": "ipython",
    "version": 3
   },
   "file_extension": ".py",
   "mimetype": "text/x-python",
   "name": "python",
   "nbconvert_exporter": "python",
   "pygments_lexer": "ipython3",
   "version": "3.9.12"
  }
 },
 "nbformat": 4,
 "nbformat_minor": 5
}
