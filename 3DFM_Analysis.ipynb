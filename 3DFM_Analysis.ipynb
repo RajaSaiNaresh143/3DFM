{
 "cells": [
  {
   "cell_type": "code",
   "execution_count": 21,
   "id": "ed9e741e",
   "metadata": {},
   "outputs": [],
   "source": [
    "#importing all the required libraries\n",
    "import numpy as np\n",
    "import open3d as o3d\n",
    "import matplotlib.pyplot as plt\n",
    "from mpl_toolkits import mplot3d\n",
    "import pandas as pd"
   ]
  },
  {
   "cell_type": "code",
   "execution_count": 22,
   "id": "ce2c2482",
   "metadata": {},
   "outputs": [],
   "source": [
    "# reading the 3D Points Data and storing it in pcd file\n",
    "pcd = o3d.io.read_point_cloud(r\"C:\\Users\\Radhakanta Koner\\Desktop\\set2modelclean.ply\")\n",
    "o3d.visualization.draw_geometries([pcd])"
   ]
  },
  {
   "cell_type": "code",
   "execution_count": 23,
   "id": "dca20b0e",
   "metadata": {},
   "outputs": [],
   "source": [
    "# Removing the plane surface on which rock stays, (ROCKS ARE IN GREY COLOR AND SURFACE IS IN RED COLOR)\n",
    "# We would like to study on 3d rock cloud by removing plane surface\n",
    "plane_model, inliers = pcd.segment_plane(distance_threshold=0.05, ransac_n=3, num_iterations=1000)\n",
    "inlier_cloud = pcd.select_by_index(inliers)\n",
    "rock_cloud = pcd.select_by_index(inliers, invert=True)\n",
    "inlier_cloud.paint_uniform_color([1, 0, 0])\n",
    "rock_cloud.paint_uniform_color([0.6, 0.6, 0.6])\n",
    "pcd.estimate_normals(search_param=o3d.geometry.KDTreeSearchParamHybrid(radius=0.1, max_nn=16), fast_normal_computation=True)\n",
    "o3d.visualization.draw_geometries([inlier_cloud, rock_cloud])\n"
   ]
  },
  {
   "cell_type": "code",
   "execution_count": 24,
   "id": "bf461d15",
   "metadata": {},
   "outputs": [
    {
     "data": {
      "text/plain": [
       "62"
      ]
     },
     "execution_count": 24,
     "metadata": {},
     "output_type": "execute_result"
    }
   ],
   "source": [
    "# Creating Labels for each individual Cluster i.e 0,1,2 for Each rock (i.e total 3 rock clusters)\n",
    "\n",
    "labels = np.array(rock_cloud.cluster_dbscan(eps=0.07, min_points= 50 ))\n",
    "max_label = labels.max()\n",
    "colors = plt.get_cmap(\"tab20\")(labels / (max_label if max_label > 0 else 1))\n",
    "colors[labels < 0] = 0 \n",
    "rock_cloud.colors = o3d.utility.Vector3dVector(colors[:, :3])\n",
    "max_label "
   ]
  },
  {
   "cell_type": "code",
   "execution_count": 25,
   "id": "11c99071",
   "metadata": {},
   "outputs": [],
   "source": [
    "o3d.visualization.draw_geometries([rock_cloud])"
   ]
  },
  {
   "cell_type": "code",
   "execution_count": 27,
   "id": "07df42e2",
   "metadata": {},
   "outputs": [
    {
     "data": {
      "text/plain": [
       "PointCloud with 792306 points."
      ]
     },
     "execution_count": 27,
     "metadata": {},
     "output_type": "execute_result"
    }
   ],
   "source": [
    "rock_cloud # no of whole 3d points of rock_cloud"
   ]
  },
  {
   "cell_type": "code",
   "execution_count": 28,
   "id": "a7d56069",
   "metadata": {},
   "outputs": [
    {
     "name": "stdout",
     "output_type": "stream",
     "text": [
      "[Open3D DEBUG] Precompute neighbors.\n",
      "[Open3D DEBUG] Done Precompute neighbors.\n",
      "[Open3D DEBUG] Compute Clusters\n",
      "[Open3D DEBUG] Done Compute Clusters: 63\n"
     ]
    }
   ],
   "source": [
    "with o3d.utility.VerbosityContextManager(\n",
    "o3d.utility.VerbosityLevel.Debug) as cm:\n",
    "    labels = np.array(rock_cloud.cluster_dbscan(eps=0.07, min_points=50, print_progress=True))"
   ]
  },
  {
   "cell_type": "code",
   "execution_count": 29,
   "id": "d60bbc70",
   "metadata": {},
   "outputs": [],
   "source": [
    "if len(labels) != 0:\n",
    "    # Get biggest cluster label\n",
    "    max_label = labels.max() + 1\n"
   ]
  },
  {
   "cell_type": "code",
   "execution_count": 30,
   "id": "1cbf6819",
   "metadata": {},
   "outputs": [],
   "source": [
    "max_label = labels.max() + 1\n",
    "# print(max_label)\n",
    "for i in range(max_label):\n",
    "    id = np.where(labels==i)[0]\n",
    "    pcd_i = rock_cloud.select_by_index(id)\n",
    "    #o3d.visualization.draw_geometries([pcd_i])\n",
    "    x = str(i)\n",
    "    \n",
    "    #saving individual rocks, cube into different ply point cloud files.\n",
    "    #o3d.io.write_point_cloud(r\"C:\\Users\\Radhakanta Koner\\Desktop\\3DFM\" + x + \".ply\", pcd_i)"
   ]
  },
  {
   "cell_type": "code",
   "execution_count": 31,
   "id": "f1e4e9ec",
   "metadata": {},
   "outputs": [],
   "source": [
    "for i in range(max_label):\n",
    "    id = np.where(labels==i)[0]\n",
    "    pcd_i = pcd.select_by_index(id)\n",
    "    hull, _ = pcd_i.compute_convex_hull()\n",
    "    hull_ls = o3d.geometry.LineSet.create_from_triangle_mesh(hull)\n",
    "    hull_ls.paint_uniform_color((1, 0, 0))\n",
    "    #o3d.visualization.draw_geometries([pcd_i, hull_ls ])"
   ]
  },
  {
   "cell_type": "code",
   "execution_count": 32,
   "id": "1206410b",
   "metadata": {},
   "outputs": [],
   "source": [
    "from __future__ import division\n",
    "import numpy as np\n",
    "from numpy import *\n",
    "import matplotlib.pyplot as plt\n",
    "import sys  # maxint\n",
    "from mpl_toolkits.mplot3d import Axes3D\n",
    "from math import *\n",
    "%matplotlib inline\n",
    "import matplotlib as mpl"
   ]
  },
  {
   "cell_type": "code",
   "execution_count": 33,
   "id": "b7978491",
   "metadata": {},
   "outputs": [],
   "source": [
    "def minBoundingRect(hull_points_3d,Epsilon):\n",
    "    a=[]\n",
    "    boxes=[]\n",
    "    count = 0\n",
    "    # Test each angle to find bounding box with smallest area\n",
    "    min_bbox = (0, 0, sys.maxsize, 0, 0, 0, 0, 0, 0, 0, 0, 0) \n",
    "    # rot_angle1, rot_angle2, volume, width, height, depth, min_x, max_x, min_y, max_y, max_z, min_z\n",
    "\n",
    "    angi=np.arange(0.0, 90, Epsilon)\n",
    "\n",
    "    for iDeg in (angi):\n",
    "        boxes.append([])\n",
    "        angj=np.arange(0.0, 180, Epsilon)\n",
    "        for jDeg in (angj):\n",
    "            \n",
    "            i=deg2rad(iDeg)\n",
    "            j=deg2rad(jDeg)\n",
    "            \n",
    "            #Rotation Matrix = Rx * Rz\n",
    "            R = array([ [ math.cos(i),                                       -math.cos(i-(math.pi/2)),              0],\n",
    "                        [ math.cos(j)*math.cos(i-(math.pi/2))  ,             math.cos(j)*math.cos(i), -math.cos(j-(math.pi/2)) ],\n",
    "                        [ math.cos(i-(math.pi/2)) * math.cos(j-(math.pi/2)), math.cos(j-(math.pi/2))*math.cos(i),  math.cos(j) ] ])\n",
    "\n",
    "            #             OR\n",
    "            #             Rx = array([ [ 1,0,0],\n",
    "            #                          [ 0, math.cos(j), -math.cos(j-(math.pi/2)) ], \n",
    "            #                          [ 0, math.cos(j-(math.pi/2)), math.cos(j) ] ])\n",
    "            #             Rz = array([ [ math.cos(i), -math.cos(i-(math.pi/2)), 0 ], \n",
    "            #                          [ math.cos(i-(math.pi/2)), math.cos(i) , 0 ], \n",
    "            #                          [ 0,0,1]])\n",
    "            #             R = matmul(Rx,Rz)\n",
    "                        \n",
    "            # Apply this rotation to convex hull points\n",
    "            rot_points = matmul((hull_points_3d), R )\n",
    "\n",
    "            a.append(rot_points)\n",
    "\n",
    "            # Find min/max x,y points\n",
    "            min_x = nanmin(rot_points[:,0], axis=0)\n",
    "            max_x = nanmax(rot_points[:,0], axis=0)\n",
    "            min_y = nanmin(rot_points[:,1], axis=0)\n",
    "            max_y = nanmax(rot_points[:,1], axis=0)\n",
    "            min_z = nanmin(rot_points[:,2], axis=0)\n",
    "            max_z = nanmax(rot_points[:,2], axis=0)\n",
    "            \n",
    "           # Calculate height/width/area of this bounding rectangle\n",
    "            width = max_x - min_x\n",
    "            height = max_y - min_y\n",
    "            depth = max_z-min_z\n",
    "            Volume = width * height * depth\n",
    "\n",
    "            boxes[count].append(Volume)\n",
    "\n",
    "            # Store the smallest rect found first (a simple convex hull might have 2 answers with same area)\n",
    "            if (Volume < min_bbox[2]):\n",
    "                min_bbox = ( i,j, Volume, width, height, depth, min_x, max_x, min_y, max_y, min_z, max_z )\n",
    "        count=count+1\n",
    "        \n",
    "        \n",
    "        \n",
    "        # Re-create rotation matrix for smallest rect\n",
    "    i = min_bbox[0]\n",
    "    j = min_bbox[1]\n",
    "    R = array([ [ math.cos(i),                                       -math.cos(i-(math.pi/2)),              0],\n",
    "                [ math.cos(j)*math.cos(i-(math.pi/2))  ,             math.cos(j)*math.cos(i), -math.cos(j-(math.pi/2)) ],\n",
    "                [ math.cos(i-(math.pi/2)) * math.cos(j-(math.pi/2)), math.cos(j-(math.pi/2))*math.cos(i),  math.cos(j)             ] ])\n",
    "\n",
    "    # Project convex hull points onto rotated frame\n",
    "    rot_points = matmul((hull_points_3d), R )\n",
    "    \n",
    "    \n",
    "    # min/max x,y points are against baseline\n",
    "    min_x = min_bbox[6]\n",
    "    max_x = min_bbox[7]\n",
    "    min_y = min_bbox[8]\n",
    "    max_y = min_bbox[9]\n",
    "    min_z = min_bbox[10]\n",
    "    max_z = min_bbox[11]\n",
    "\n",
    "    # Calculate center point and project onto rotated frame\n",
    "    center_x = (min_x + max_x)/2\n",
    "    center_y = (min_y + max_y)/2\n",
    "    center_z = (min_x + max_x)/2\n",
    "    center_point = matmul(linalg.inv(R) , [ center_x, center_y, center_z])\n",
    "    #print (\"Bounding box center point: \\n\", center_point)\n",
    "\n",
    "    # Calculate corner points and project onto rotated frame\n",
    "    corner_points = zeros( (16,3) ) # empty 2 column array\n",
    "    corner_points[0] = matmul(  (R) ,[ min_x, min_y ,min_z ])\n",
    "    corner_points[1] = matmul(  (R), [ max_x, min_y ,min_z ])\n",
    "    corner_points[2] = matmul(  (R), [ max_x, max_y ,min_z ])\n",
    "    corner_points[3] = matmul(  (R), [ min_x, max_y ,min_z ])\n",
    "    corner_points[4] = matmul(  (R), [ min_x, min_y ,min_z ])\n",
    "    \n",
    "    corner_points[5] = matmul( (R), [ min_x, min_y ,max_z ])\n",
    "    corner_points[6] = matmul( (R), [ max_x, min_y ,max_z ])\n",
    "    corner_points[7] = matmul( (R), [ max_x, max_y ,max_z ])\n",
    "    corner_points[8] = matmul( (R), [ min_x, max_y ,max_z ])\n",
    "    corner_points[9] = matmul( (R), [ min_x, min_y ,max_z ])\n",
    "\n",
    "    corner_points[10] = matmul( (R), [ max_x, min_y ,max_z ])\n",
    "    corner_points[11] = matmul( (R), [ max_x, min_y ,min_z ])\n",
    "    \n",
    "    corner_points[12] = matmul( (R), [ max_x, max_y ,min_z ] )\n",
    "    corner_points[13] = matmul( (R), [ max_x, max_y ,max_z ])\n",
    "\n",
    "    corner_points[14] = matmul( (R), [ min_x, max_y ,max_z ])\n",
    "    corner_points[15] = matmul( (R), [ min_x, max_y ,min_z ])\n",
    "\n",
    "    return ( i, j, min_bbox[2], min_bbox[3], min_bbox[4], min_bbox[5], center_point, corner_points,a,boxes,rot_points) \n",
    "    # rot_angle, area, width, height, center_point, corner_points\n",
    "\n",
    "\n",
    "            "
   ]
  },
  {
   "cell_type": "code",
   "execution_count": 34,
   "id": "18ce3359",
   "metadata": {},
   "outputs": [],
   "source": [
    "xyz_load = np.asarray(hull_ls.points)"
   ]
  },
  {
   "cell_type": "code",
   "execution_count": 35,
   "id": "5922ebd6",
   "metadata": {},
   "outputs": [
    {
     "name": "stdout",
     "output_type": "stream",
     "text": [
      "Minimum Volume bounding box:\n",
      "Rotation angles:\n",
      "Along z axes:  0.19198621771937624 rad  ( 11.0 deg )\n",
      "Along x axes:  2.993239667170275 rad  ( 171.5 deg )\n",
      "Width: 6.97547348958034  Height: 4.783194818867851  Depth: 0.45569222145366695   Volume: 15.204193140283676\n",
      "Center point: \n",
      " [ 5.78027757 -3.0828367  -6.61929482]\n",
      "Corner points: \n",
      " [[ 2.63030320e+00  6.59023719e-02  7.26981814e+00]\n",
      " [ 9.47761760e+00 -1.25046102e+00  7.46654996e+00]\n",
      " [ 8.56494100e+00 -5.89420110e+00  8.16056157e+00]\n",
      " [ 1.71762661e+00 -4.57783771e+00  7.96382974e+00]\n",
      " [ 2.63030320e+00  6.59023719e-02  7.26981814e+00]\n",
      " [ 2.63030320e+00 -1.45322699e-03  6.81913130e+00]\n",
      " [ 9.47761760e+00 -1.31781662e+00  7.01586313e+00]\n",
      " [ 8.56494100e+00 -5.96155670e+00  7.70987473e+00]\n",
      " [ 1.71762661e+00 -4.64519331e+00  7.51314291e+00]\n",
      " [ 2.63030320e+00 -1.45322699e-03  6.81913130e+00]\n",
      " [ 9.47761760e+00 -1.31781662e+00  7.01586313e+00]\n",
      " [ 9.47761760e+00 -1.25046102e+00  7.46654996e+00]\n",
      " [ 8.56494100e+00 -5.89420110e+00  8.16056157e+00]\n",
      " [ 8.56494100e+00 -5.96155670e+00  7.70987473e+00]\n",
      " [ 1.71762661e+00 -4.64519331e+00  7.51314291e+00]\n",
      " [ 1.71762661e+00 -4.57783771e+00  7.96382974e+00]] \n",
      "\n"
     ]
    },
    {
     "data": {
      "text/plain": [
       "Text(0.5, 0.92, 'Minimum Volume Bounding Box')"
      ]
     },
     "execution_count": 35,
     "metadata": {},
     "output_type": "execute_result"
    },
    {
     "data": {
      "image/png": "[encoded data removed]",
      "text/plain": [
       "<Figure size 432x288 with 1 Axes>"
      ]
     },
     "metadata": {
      "needs_background": "light"
     },
     "output_type": "display_data"
    }
   ],
   "source": [
    "Epsilon = 0.5 #Angle Variations for bounding boxes\n",
    "(rot_angle1, rot_angle2, Volume, width, height, depth, center_point, corner_points,a,boxes,\n",
    " rot_points) = minBoundingRect(xyz_load,Epsilon)\n",
    "\n",
    "print (\"Minimum Volume bounding box:\")\n",
    "print (\"Rotation angles:\")\n",
    "print(\"Along z axes: \", rot_angle1, \"rad  (\", rot_angle1*(180/math.pi), \"deg )\")\n",
    "print(\"Along x axes: \", rot_angle2, \"rad  (\", rot_angle2*(180/math.pi), \"deg )\")\n",
    "print (\"Width:\", width, \" Height:\", height, \" Depth:\", depth, \"  Volume:\", Volume)\n",
    "print (\"Center point: \\n\", center_point) # numpy array\n",
    "print (\"Corner points: \\n\", corner_points, \"\\n\")  # numpy array\n",
    "\n",
    "fig = plt.figure(4)\n",
    "ax = fig.add_subplot(111, projection='3d')\n",
    "ax.plot3D(corner_points[:, 0], corner_points[:, 1], corner_points[:, 2], 'gray')\n",
    "ax.scatter(xyz_load[:, 0], xyz_load[:, 1], xyz_load[:, 2], s=20, c='b', zorder=10)\n",
    "ax.set_xlabel('X axis')\n",
    "ax.set_ylabel('Y axis')\n",
    "ax.set_zlabel('Z axis')\n",
    "ax.set_title('Minimum Volume Bounding Box')"
   ]
  },
  {
   "cell_type": "code",
   "execution_count": 36,
   "id": "d3b0ceb4",
   "metadata": {},
   "outputs": [
    {
     "name": "stdout",
     "output_type": "stream",
     "text": [
      "Rock_No: 0  |Width(cm): 1.88 |Height(cm): 8.68 |Depth(cm): 7.41 |Small Dimension(cm): 1.88 |Weight(gms): 121.05\n",
      "Rock_No: 1  |Width(cm): 1.89 |Height(cm): 8.68 |Depth(cm): 7.41 |Small Dimension(cm): 1.89 |Weight(gms): 121.59\n",
      "Rock_No: 2  |Width(cm): 1.90 |Height(cm): 8.67 |Depth(cm): 7.41 |Small Dimension(cm): 1.90 |Weight(gms): 122.09\n",
      "Rock_No: 3  |Width(cm): 1.86 |Height(cm): 8.67 |Depth(cm): 7.41 |Small Dimension(cm): 1.86 |Weight(gms): 119.64\n",
      "Rock_No: 4  |Width(cm): 1.16 |Height(cm): 8.68 |Depth(cm): 7.40 |Small Dimension(cm): 1.16 |Weight(gms): 74.65\n",
      "Rock_No: 5  |Width(cm): 0.82 |Height(cm): 8.64 |Depth(cm): 7.23 |Small Dimension(cm): 0.82 |Weight(gms): 50.98\n",
      "Rock_No: 6  |Width(cm): 1.09 |Height(cm): 8.58 |Depth(cm): 7.15 |Small Dimension(cm): 1.09 |Weight(gms): 66.96\n",
      "Rock_No: 7  |Width(cm): 0.97 |Height(cm): 8.66 |Depth(cm): 7.40 |Small Dimension(cm): 0.97 |Weight(gms): 62.25\n",
      "Rock_No: 8  |Width(cm): 1.12 |Height(cm): 8.37 |Depth(cm): 7.39 |Small Dimension(cm): 1.12 |Weight(gms): 69.30\n",
      "Rock_No: 9  |Width(cm): 1.14 |Height(cm): 8.67 |Depth(cm): 7.39 |Small Dimension(cm): 1.14 |Weight(gms): 73.01\n",
      "Rock_No: 10  |Width(cm): 0.92 |Height(cm): 8.35 |Depth(cm): 7.31 |Small Dimension(cm): 0.92 |Weight(gms): 56.13\n",
      "Rock_No: 11  |Width(cm): 0.82 |Height(cm): 8.55 |Depth(cm): 7.36 |Small Dimension(cm): 0.82 |Weight(gms): 51.32\n",
      "Rock_No: 12  |Width(cm): 0.93 |Height(cm): 8.42 |Depth(cm): 7.30 |Small Dimension(cm): 0.93 |Weight(gms): 57.43\n",
      "Rock_No: 13  |Width(cm): 1.15 |Height(cm): 8.67 |Depth(cm): 7.40 |Small Dimension(cm): 1.15 |Weight(gms): 73.76\n",
      "Rock_No: 14  |Width(cm): 1.10 |Height(cm): 8.52 |Depth(cm): 7.39 |Small Dimension(cm): 1.10 |Weight(gms): 69.16\n",
      "Rock_No: 15  |Width(cm): 0.97 |Height(cm): 8.44 |Depth(cm): 7.35 |Small Dimension(cm): 0.97 |Weight(gms): 60.08\n",
      "Rock_No: 16  |Width(cm): 0.73 |Height(cm): 7.94 |Depth(cm): 6.16 |Small Dimension(cm): 0.73 |Weight(gms): 35.49\n",
      "Rock_No: 17  |Width(cm): 1.05 |Height(cm): 8.62 |Depth(cm): 7.34 |Small Dimension(cm): 1.05 |Weight(gms): 66.51\n",
      "Rock_No: 18  |Width(cm): 0.62 |Height(cm): 7.78 |Depth(cm): 6.58 |Small Dimension(cm): 0.62 |Weight(gms): 31.71\n",
      "Rock_No: 19  |Width(cm): 1.08 |Height(cm): 8.65 |Depth(cm): 7.37 |Small Dimension(cm): 1.08 |Weight(gms): 68.93\n",
      "Rock_No: 20  |Width(cm): 0.96 |Height(cm): 8.67 |Depth(cm): 7.25 |Small Dimension(cm): 0.96 |Weight(gms): 60.24\n",
      "Rock_No: 21  |Width(cm): 1.08 |Height(cm): 8.67 |Depth(cm): 7.38 |Small Dimension(cm): 1.08 |Weight(gms): 68.91\n",
      "Rock_No: 22  |Width(cm): 0.96 |Height(cm): 8.67 |Depth(cm): 7.40 |Small Dimension(cm): 0.96 |Weight(gms): 61.55\n",
      "Rock_No: 23  |Width(cm): 1.09 |Height(cm): 8.63 |Depth(cm): 7.33 |Small Dimension(cm): 1.09 |Weight(gms): 69.23\n",
      "Rock_No: 24  |Width(cm): 1.10 |Height(cm): 8.67 |Depth(cm): 7.40 |Small Dimension(cm): 1.10 |Weight(gms): 70.54\n",
      "Rock_No: 25  |Width(cm): 1.01 |Height(cm): 8.67 |Depth(cm): 7.41 |Small Dimension(cm): 1.01 |Weight(gms): 64.61\n",
      "Rock_No: 26  |Width(cm): 8.07 |Height(cm): 3.11 |Depth(cm): 0.45 |Small Dimension(cm): 0.45 |Weight(gms): 11.30\n",
      "Rock_No: 27  |Width(cm): 2.45 |Height(cm): 0.01 |Depth(cm): 1.00 |Small Dimension(cm): 0.01 |Weight(gms): 0.03\n",
      "Rock_No: 28  |Width(cm): 0.96 |Height(cm): 2.47 |Depth(cm): 0.48 |Small Dimension(cm): 0.48 |Weight(gms): 1.14\n",
      "Rock_No: 29  |Width(cm): 4.42 |Height(cm): 8.67 |Depth(cm): 1.79 |Small Dimension(cm): 1.79 |Weight(gms): 68.73\n",
      "Rock_No: 30  |Width(cm): 0.94 |Height(cm): 8.58 |Depth(cm): 7.39 |Small Dimension(cm): 0.94 |Weight(gms): 59.58\n",
      "Rock_No: 31  |Width(cm): 1.04 |Height(cm): 8.47 |Depth(cm): 7.37 |Small Dimension(cm): 1.04 |Weight(gms): 64.92\n",
      "Rock_No: 32  |Width(cm): 0.84 |Height(cm): 8.62 |Depth(cm): 7.40 |Small Dimension(cm): 0.84 |Weight(gms): 53.63\n",
      "Rock_No: 33  |Width(cm): 0.90 |Height(cm): 8.49 |Depth(cm): 7.40 |Small Dimension(cm): 0.90 |Weight(gms): 56.30\n",
      "Rock_No: 34  |Width(cm): 0.91 |Height(cm): 8.68 |Depth(cm): 7.38 |Small Dimension(cm): 0.91 |Weight(gms): 58.01\n",
      "Rock_No: 35  |Width(cm): 1.05 |Height(cm): 8.67 |Depth(cm): 7.39 |Small Dimension(cm): 1.05 |Weight(gms): 67.19\n",
      "Rock_No: 36  |Width(cm): 0.91 |Height(cm): 8.67 |Depth(cm): 7.35 |Small Dimension(cm): 0.91 |Weight(gms): 58.04\n",
      "Rock_No: 37  |Width(cm): 1.81 |Height(cm): 8.68 |Depth(cm): 7.40 |Small Dimension(cm): 1.81 |Weight(gms): 116.09\n",
      "Rock_No: 38  |Width(cm): 1.93 |Height(cm): 8.68 |Depth(cm): 7.41 |Small Dimension(cm): 1.93 |Weight(gms): 123.86\n",
      "Rock_No: 39  |Width(cm): 0.77 |Height(cm): 8.01 |Depth(cm): 7.03 |Small Dimension(cm): 0.77 |Weight(gms): 43.46\n",
      "Rock_No: 40  |Width(cm): 0.96 |Height(cm): 8.40 |Depth(cm): 7.21 |Small Dimension(cm): 0.96 |Weight(gms): 58.08\n",
      "Rock_No: 41  |Width(cm): 0.89 |Height(cm): 8.54 |Depth(cm): 7.38 |Small Dimension(cm): 0.89 |Weight(gms): 55.89\n",
      "Rock_No: 42  |Width(cm): 0.89 |Height(cm): 8.67 |Depth(cm): 7.39 |Small Dimension(cm): 0.89 |Weight(gms): 56.96\n",
      "Rock_No: 43  |Width(cm): 1.77 |Height(cm): 8.64 |Depth(cm): 7.39 |Small Dimension(cm): 1.77 |Weight(gms): 113.21\n",
      "Rock_No: 44  |Width(cm): 0.89 |Height(cm): 8.66 |Depth(cm): 7.28 |Small Dimension(cm): 0.89 |Weight(gms): 55.99\n",
      "Rock_No: 45  |Width(cm): 0.88 |Height(cm): 8.68 |Depth(cm): 7.33 |Small Dimension(cm): 0.88 |Weight(gms): 56.05\n",
      "Rock_No: 46  |Width(cm): 1.07 |Height(cm): 8.67 |Depth(cm): 7.41 |Small Dimension(cm): 1.07 |Weight(gms): 68.92\n",
      "Rock_No: 47  |Width(cm): 0.88 |Height(cm): 8.67 |Depth(cm): 7.36 |Small Dimension(cm): 0.88 |Weight(gms): 55.88\n",
      "Rock_No: 48  |Width(cm): 1.11 |Height(cm): 8.68 |Depth(cm): 7.39 |Small Dimension(cm): 1.11 |Weight(gms): 70.91\n",
      "Rock_No: 49  |Width(cm): 0.92 |Height(cm): 8.68 |Depth(cm): 7.38 |Small Dimension(cm): 0.92 |Weight(gms): 58.93\n",
      "Rock_No: 50  |Width(cm): 0.88 |Height(cm): 8.55 |Depth(cm): 7.25 |Small Dimension(cm): 0.88 |Weight(gms): 54.73\n",
      "Rock_No: 51  |Width(cm): 0.87 |Height(cm): 8.61 |Depth(cm): 7.40 |Small Dimension(cm): 0.87 |Weight(gms): 55.67\n",
      "Rock_No: 52  |Width(cm): 0.89 |Height(cm): 8.67 |Depth(cm): 7.36 |Small Dimension(cm): 0.89 |Weight(gms): 56.69\n",
      "Rock_No: 53  |Width(cm): 0.93 |Height(cm): 8.61 |Depth(cm): 7.40 |Small Dimension(cm): 0.93 |Weight(gms): 59.25\n",
      "Rock_No: 54  |Width(cm): 0.90 |Height(cm): 8.65 |Depth(cm): 7.39 |Small Dimension(cm): 0.90 |Weight(gms): 57.36\n",
      "Rock_No: 55  |Width(cm): 1.02 |Height(cm): 8.68 |Depth(cm): 7.41 |Small Dimension(cm): 1.02 |Weight(gms): 65.86\n",
      "Rock_No: 56  |Width(cm): 1.91 |Height(cm): 8.67 |Depth(cm): 7.40 |Small Dimension(cm): 1.91 |Weight(gms): 122.43\n",
      "Rock_No: 57  |Width(cm): 0.25 |Height(cm): 5.64 |Depth(cm): 3.49 |Small Dimension(cm): 0.25 |Weight(gms): 4.95\n",
      "Rock_No: 58  |Width(cm): 0.87 |Height(cm): 8.37 |Depth(cm): 7.23 |Small Dimension(cm): 0.87 |Weight(gms): 52.91\n",
      "Rock_No: 59  |Width(cm): 4.55 |Height(cm): 9.10 |Depth(cm): 0.84 |Small Dimension(cm): 0.84 |Weight(gms): 34.72\n",
      "Rock_No: 60  |Width(cm): 3.28 |Height(cm): 7.43 |Depth(cm): 0.85 |Small Dimension(cm): 0.85 |Weight(gms): 20.76\n",
      "Rock_No: 61  |Width(cm): 0.39 |Height(cm): 2.38 |Depth(cm): 6.07 |Small Dimension(cm): 0.39 |Weight(gms): 5.63\n",
      "Rock_No: 62  |Width(cm): 6.98 |Height(cm): 4.78 |Depth(cm): 0.46 |Small Dimension(cm): 0.46 |Weight(gms): 15.20\n"
     ]
    }
   ],
   "source": [
    "Epsilon = 0.5\n",
    "for i in range(max_label):\n",
    "    id = np.where(labels==i)[0]\n",
    "    pcd_i = pcd.select_by_index(id)\n",
    "    hull, _ = pcd_i.compute_convex_hull()\n",
    "    hull_ls = o3d.geometry.LineSet.create_from_triangle_mesh(hull)\n",
    "    hull_ls.paint_uniform_color((1, 0, 0))\n",
    "    xyz_load = np.asarray(hull_ls.points)\n",
    "    (rot_angle1, rot_angle2, Volume, width, height, depth, center_point, corner_points,a,boxes,rot_points) = minBoundingRect(xyz_load,Epsilon)\n",
    "    Dimension =  min(width,height,depth)\n",
    "    #print (\"Minimum Volume bounding box:\", i )\n",
    "    print (\"Rock_No:\", i , \" |Width(cm):\", \"{:.2f}\".format(width), \"|Height(cm):\", \"{:.2f}\".format(height) , \"|Depth(cm):\", \"{:.2f}\".format(depth),\"|Small Dimension(cm):\" ,\"{:.2f}\".format(Dimension), \"|Weight(gms):\",  \"{:.2f}\".format(Volume))\n",
    "    \n",
    "    "
   ]
  },
  {
   "cell_type": "code",
   "execution_count": null,
   "id": "bdf0f7dd",
   "metadata": {},
   "outputs": [],
   "source": []
  }
 ],
 "metadata": {
  "kernelspec": {
   "display_name": "Python 3 (ipykernel)",
   "language": "python",
   "name": "python3"
  },
  "language_info": {
   "codemirror_mode": {
    "name": "ipython",
    "version": 3
   },
   "file_extension": ".py",
   "mimetype": "text/x-python",
   "name": "python",
   "nbconvert_exporter": "python",
   "pygments_lexer": "ipython3",
   "version": "3.9.12"
  }
 },
 "nbformat": 4,
 "nbformat_minor": 5
}
